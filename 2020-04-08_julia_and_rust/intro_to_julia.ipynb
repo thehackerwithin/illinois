{
 "cells": [
  {
   "cell_type": "markdown",
   "metadata": {
    "slideshow": {
     "slide_type": "subslide"
    }
   },
   "source": [
    "# An Interactive Introduction to Julia\n",
    "## THW, April 7 2020\n",
    "### Cail Daley"
   ]
  },
  {
   "cell_type": "markdown",
   "metadata": {
    "slideshow": {
     "slide_type": "slide"
    }
   },
   "source": [
    "## Three mental models and a rabbit hole\n",
    "\n",
    "People often like to say that Julia \"walks like python, runs like C.\"\n",
    "\n",
    "But this doesn't capture any of the things that have made me love the language!\n",
    "\n",
    "Instead, let's look at three mental models and a rabbit hole (lifted from [A Mental Model for Julia](http://ucidatascienceinitiative.github.io/IntroToJulia/Html/JuliaMentalModel) by Chris Rackauckas)"
   ]
  },
  {
   "cell_type": "markdown",
   "metadata": {
    "slideshow": {
     "slide_type": "subslide"
    }
   },
   "source": [
    "### A Mental Model for Python/R/MATLAB: Talking to a Politician"
   ]
  },
  {
   "cell_type": "markdown",
   "metadata": {
    "slideshow": {
     "slide_type": "fragment"
    }
   },
   "source": [
    "- These scripting languages were developed to \"be easy\".\n",
    "- You tell them something, and they try to give you what you want."
   ]
  },
  {
   "cell_type": "markdown",
   "metadata": {
    "slideshow": {
     "slide_type": "fragment"
    }
   },
   "source": [
    "- There may be some things hidden behind the scenes to make everything \"work better\".\n",
    "- They may not give you the fastest reply."
   ]
  },
  {
   "cell_type": "markdown",
   "metadata": {
    "slideshow": {
     "slide_type": "subslide"
    }
   },
   "source": [
    "### A Mental Model for C/Fortran: Talking to a Philosopher"
   ]
  },
  {
   "cell_type": "markdown",
   "metadata": {
    "slideshow": {
     "slide_type": "fragment"
    }
   },
   "source": [
    "- You say something, and they want something more specific."
   ]
  },
  {
   "cell_type": "markdown",
   "metadata": {
    "slideshow": {
     "slide_type": "fragment"
    }
   },
   "source": [
    "- You spend hours digging deep into the specifics of something.\n",
    "- After finally getting it right, you know how to quickly get a specific answer from them."
   ]
  },
  {
   "cell_type": "markdown",
   "metadata": {
    "slideshow": {
     "slide_type": "fragment"
    }
   },
   "source": [
    "- Everytime you want to talk about something new, you have to start all the way at the basics again."
   ]
  },
  {
   "cell_type": "markdown",
   "metadata": {
    "slideshow": {
     "slide_type": "subslide"
    }
   },
   "source": [
    "### A Mental Model for Julia: Talking to a Scientist"
   ]
  },
  {
   "cell_type": "markdown",
   "metadata": {
    "slideshow": {
     "slide_type": "fragment"
    }
   },
   "source": [
    "- When you're talking, everything looks general. However, you really mean very specific details determined by context."
   ]
  },
  {
   "cell_type": "markdown",
   "metadata": {
    "slideshow": {
     "slide_type": "fragment"
    }
   },
   "source": [
    "- You can quickly dig deep into a subject, assuming many rules, theories, and terminology.\n",
    "- Nothing is hidden: if you ever want to hear about every little detail, you can ask."
   ]
  },
  {
   "cell_type": "markdown",
   "metadata": {
    "slideshow": {
     "slide_type": "fragment"
    }
   },
   "source": [
    "- They will get mad (and throw errors at you) if you begin to be loose with the specific details."
   ]
  },
  {
   "cell_type": "markdown",
   "metadata": {
    "slideshow": {
     "slide_type": "subslide"
    }
   },
   "source": [
    "### The Rabbit Hole\n",
    "\n",
    "another perspective, excerpted from a discussion the creators of Julia that can be found [here](https://www.rce-cast.com/Podcast/rce-107-julia.html).\n",
    "\n",
    "\n",
    "> Karpinski: ...it's [a] very straightforward dynamic language to use. But then there's sort of this rabbit hole of advanced features that you can go down that you don't need to know  right away to write useful programs, but which can help you as you find yourself doing harder and harder things.\n",
    "\n",
    "\n",
    "> Edelman: What happens when you start to go down this rabbit hole is you become a better programmer, something for when you used these other languages you never knew you were missing, and never knew you wanted to be. But then when you do it, you wonder how you lived without it.\n",
    "\n"
   ]
  },
  {
   "cell_type": "markdown",
   "metadata": {
    "slideshow": {
     "slide_type": "slide"
    }
   },
   "source": [
    "## Julia Syntax"
   ]
  },
  {
   "cell_type": "markdown",
   "metadata": {
    "slideshow": {
     "slide_type": "subslide"
    }
   },
   "source": [
    "### Hello World..."
   ]
  },
  {
   "cell_type": "code",
   "execution_count": 180,
   "metadata": {
    "slideshow": {
     "slide_type": "-"
    }
   },
   "outputs": [
    {
     "name": "stdout",
     "output_type": "stream",
     "text": [
      "Hello world, the circumferene of a circle is 6.283185307179586 times its radius\n"
     ]
    },
    {
     "data": {
      "text/plain": [
       "Irrational{:π}"
      ]
     },
     "execution_count": 180,
     "metadata": {},
     "output_type": "execute_result"
    }
   ],
   "source": [
    "x = 2π\n",
    "println(\"Hello world, the circumferene of a circle is $x times its radius\")\n",
    "typeof(π)"
   ]
  },
  {
   "cell_type": "markdown",
   "metadata": {
    "slideshow": {
     "slide_type": "subslide"
    }
   },
   "source": [
    "### Arrays"
   ]
  },
  {
   "cell_type": "code",
   "execution_count": 190,
   "metadata": {},
   "outputs": [
    {
     "data": {
      "text/plain": [
       "3×3 Array{Int64,2}:\n",
       " 1  1  1\n",
       " 2  2  2\n",
       " 3  3  3"
      ]
     },
     "execution_count": 190,
     "metadata": {},
     "output_type": "execute_result"
    }
   ],
   "source": [
    "# 1D, 2D (; vs _?), list comprehension, basic operations   \n",
    "a = [0 1; 1 3]\n",
    "b = [i for i in 1:3, j in 1:3]"
   ]
  },
  {
   "cell_type": "code",
   "execution_count": 193,
   "metadata": {},
   "outputs": [
    {
     "data": {
      "text/plain": [
       "2×2 Array{Int64,2}:\n",
       " 0  2\n",
       " 2  6"
      ]
     },
     "execution_count": 193,
     "metadata": {},
     "output_type": "execute_result"
    }
   ],
   "source": [
    "a + a "
   ]
  },
  {
   "cell_type": "markdown",
   "metadata": {
    "slideshow": {
     "slide_type": "subslide"
    }
   },
   "source": [
    "### Broadcasting"
   ]
  },
  {
   "cell_type": "code",
   "execution_count": 217,
   "metadata": {
    "scrolled": true
   },
   "outputs": [
    {
     "name": "stdout",
     "output_type": "stream",
     "text": [
      "[1.0 1.2246467991473532e-16; -1.0 -2.4492935982947064e-16]this is a new line: \n",
      "\n",
      "\n",
      "[-0.2209579211114544 0.482490682615219; 0.7237360239228284 0.502778102811374]\n"
     ]
    },
    {
     "ename": "LoadError",
     "evalue": "syntax: invalid identifier name \"?\"",
     "output_type": "error",
     "traceback": [
      "syntax: invalid identifier name \"?\"",
      ""
     ]
    }
   ],
   "source": [
    "a = [π/2 π; 3π/2 2π]\n",
    "\n",
    "\n",
    "println(sin.(a), \"this is a new line: \\n\")\n",
    "println()\n",
    "println(sin(a))\n",
    "\n",
    "a / a\n",
    "a * inv(a)\n",
    "\n",
    "? +"
   ]
  },
  {
   "cell_type": "markdown",
   "metadata": {
    "slideshow": {
     "slide_type": "subslide"
    }
   },
   "source": [
    "### Indexing"
   ]
  },
  {
   "cell_type": "markdown",
   "metadata": {},
   "source": [
    "Yes, Julia uses 1-based indexing and column-major ordering (like Fortran, Matlab)\n",
    "\n",
    "you'll get used to it..."
   ]
  },
  {
   "cell_type": "code",
   "execution_count": 242,
   "metadata": {},
   "outputs": [
    {
     "data": {
      "text/plain": [
       "2×2 CartesianIndices{2,Tuple{Base.OneTo{Int64},Base.OneTo{Int64}}}:\n",
       " CartesianIndex(1, 1)  CartesianIndex(1, 2)\n",
       " CartesianIndex(2, 1)  CartesianIndex(2, 2)"
      ]
     },
     "execution_count": 242,
     "metadata": {},
     "output_type": "execute_result"
    }
   ],
   "source": [
    "# ranges & splatting, CartesianIndices\n",
    " a = [0 1; 3 4]\n",
    "\n",
    "x = 1:10\n",
    "\n",
    "xy = (1,2)\n",
    "f(x,y) = x+y\n",
    "f(xy...)\n",
    "\n",
    "CartesianIndices(a)"
   ]
  },
  {
   "cell_type": "markdown",
   "metadata": {
    "slideshow": {
     "slide_type": "subslide"
    }
   },
   "source": [
    "### Control Flow \n",
    "\n",
    "Unlike Python, Julia doesn't care about indentation and instead uses `end` to break out of something:"
   ]
  },
  {
   "cell_type": "code",
   "execution_count": 244,
   "metadata": {},
   "outputs": [
    {
     "name": "stdout",
     "output_type": "stream",
     "text": [
      "1\n"
     ]
    }
   ],
   "source": []
  },
  {
   "cell_type": "markdown",
   "metadata": {
    "slideshow": {
     "slide_type": "subslide"
    }
   },
   "source": [
    "### Functions and Compilation"
   ]
  },
  {
   "cell_type": "code",
   "execution_count": 1,
   "metadata": {},
   "outputs": [
    {
     "data": {
      "text/plain": [
       "z (generic function with 1 method)"
      ]
     },
     "execution_count": 1,
     "metadata": {},
     "output_type": "execute_result"
    }
   ],
   "source": [
    "z(x) = [x^2 for i in 1:1000]\n"
   ]
  },
  {
   "cell_type": "code",
   "execution_count": 2,
   "metadata": {},
   "outputs": [
    {
     "name": "stdout",
     "output_type": "stream",
     "text": [
      "  0.000003 seconds (1 allocation: 7.938 KiB)\n",
      "  0.000003 seconds (1 allocation: 7.938 KiB)\n"
     ]
    }
   ],
   "source": [
    "@time z(10)\n",
    "@time z(10);"
   ]
  },
  {
   "cell_type": "markdown",
   "metadata": {
    "slideshow": {
     "slide_type": "slide"
    }
   },
   "source": [
    "## Types in Julia\n",
    "\n",
    "(where things start to get cool...)\n",
    "\n",
    "Julia is *optionally typed*, combining elements of both dynamic and static type systems. \n",
    "\n",
    "The [Types](https://docs.julialang.org/en/v1/manual/types/) section of the docs explores all the nuances of this, but here's a hands-on exploration:"
   ]
  },
  {
   "cell_type": "markdown",
   "metadata": {
    "slideshow": {
     "slide_type": "subslide"
    }
   },
   "source": [
    "### Type Inspection"
   ]
  },
  {
   "cell_type": "code",
   "execution_count": 265,
   "metadata": {},
   "outputs": [
    {
     "name": "stdout",
     "output_type": "stream",
     "text": [
      "Float64\n",
      "AbstractFloat\n",
      "Real\n",
      "Number\n",
      "Any\n",
      "Any\n"
     ]
    },
    {
     "data": {
      "text/plain": [
       "true"
      ]
     },
     "execution_count": 265,
     "metadata": {},
     "output_type": "execute_result"
    }
   ],
   "source": [
    "#typeof, supertype, concrete vs abstract\n",
    "\n",
    "t = typeof(1.0); println(t)\n",
    "for i in 1:5\n",
    "    t = supertype(t);\n",
    "    println(t)\n",
    "end\n",
    "\n",
    "isabstracttype(Real)"
   ]
  },
  {
   "cell_type": "markdown",
   "metadata": {
    "slideshow": {
     "slide_type": "subslide"
    }
   },
   "source": [
    "### \"Methods\" and Multiple Dispatch"
   ]
  },
  {
   "cell_type": "code",
   "execution_count": 5,
   "metadata": {},
   "outputs": [
    {
     "data": {
      "text/plain": [
       "myadd (generic function with 3 methods)"
      ]
     },
     "execution_count": 5,
     "metadata": {},
     "output_type": "execute_result"
    }
   ],
   "source": [
    "#+, methods, @code_llvm\n",
    "\n",
    "myadd(x,y) = x+y\n",
    "myadd(x::Complex ,y) = real(x)+y\n",
    "\n",
    "\n",
    "# myadd(y, x::Complex) = myadd(y, x)\n",
    "# above line creates an infinite loop.. had to switch x and y\n",
    "myadd(y, x::Complex) = myadd(x, y)"
   ]
  },
  {
   "cell_type": "code",
   "execution_count": 7,
   "metadata": {},
   "outputs": [
    {
     "name": "stdout",
     "output_type": "stream",
     "text": [
      "3\n",
      "5\n"
     ]
    }
   ],
   "source": [
    "println(myadd(1,2 + 3im))\n",
    "println(myadd(2 + 1im, 3))\n"
   ]
  },
  {
   "cell_type": "markdown",
   "metadata": {
    "slideshow": {
     "slide_type": "subslide"
    }
   },
   "source": [
    "### Historic Numbers: Making our own type system"
   ]
  },
  {
   "cell_type": "code",
   "execution_count": 279,
   "metadata": {},
   "outputs": [
    {
     "data": {
      "text/plain": [
       "+ (generic function with 193 methods)"
      ]
     },
     "execution_count": 279,
     "metadata": {},
     "output_type": "execute_result"
    }
   ],
   "source": [
    "struct HistoricNumber\n",
    "    num::Number\n",
    "    ops::Int\n",
    "end\n",
    "\n",
    "HistoricNumber(num::Number) = HistoricNumber(num, 0)\n",
    "\n",
    "import Base: +\n",
    "+(a::HistoricNumber, b::HistoricNumber) = HistoricNumber(a.num + b.num, max(a.ops, b.ops) + 1)\n",
    "+(a::HistoricNumber, b::Number) = HistoricNumber(a.num + b, a.ops + 1)\n",
    "+(a::Number, b::HistoricNumber) = b + a"
   ]
  },
  {
   "cell_type": "code",
   "execution_count": 282,
   "metadata": {},
   "outputs": [
    {
     "data": {
      "text/plain": [
       "HistoricNumber(-10.41778531348284, 558)"
      ]
     },
     "execution_count": 282,
     "metadata": {},
     "output_type": "execute_result"
    }
   ],
   "source": [
    "n = HistoricNumber(1)\n",
    "\n",
    "for i in 1:rand(1:1000)\n",
    "    n += randn()\n",
    "end\n",
    "n"
   ]
  },
  {
   "cell_type": "markdown",
   "metadata": {
    "slideshow": {
     "slide_type": "subslide"
    }
   },
   "source": [
    "## Bonus Tidbits\n",
    "\n",
    "(if there's time)"
   ]
  },
  {
   "cell_type": "markdown",
   "metadata": {
    "slideshow": {
     "slide_type": "subslide"
    }
   },
   "source": [
    "### Plotting"
   ]
  },
  {
   "cell_type": "code",
   "execution_count": null,
   "metadata": {},
   "outputs": [],
   "source": []
  },
  {
   "cell_type": "markdown",
   "metadata": {
    "slideshow": {
     "slide_type": "subslide"
    }
   },
   "source": [
    "### Calling Python or C"
   ]
  },
  {
   "cell_type": "code",
   "execution_count": 286,
   "metadata": {},
   "outputs": [
    {
     "data": {
      "text/plain": [
       "1.4142135623730951"
      ]
     },
     "execution_count": 286,
     "metadata": {},
     "output_type": "execute_result"
    }
   ],
   "source": [
    "using PyCall\n",
    "\n",
    "py\"\"\"\n",
    "import pandas as pd\n",
    "\"\"\"\n",
    "\n",
    "py\"pd.DataFrame($a)\"\n",
    "\n",
    "ccall(:sqrt, Float64, (Float64,), 2)"
   ]
  },
  {
   "cell_type": "markdown",
   "metadata": {
    "slideshow": {
     "slide_type": "subslide"
    }
   },
   "source": [
    "### Autodifferentiation"
   ]
  },
  {
   "cell_type": "code",
   "execution_count": null,
   "metadata": {},
   "outputs": [],
   "source": []
  },
  {
   "cell_type": "markdown",
   "metadata": {
    "slideshow": {
     "slide_type": "slide"
    }
   },
   "source": [
    "## Resources\n",
    "\n",
    "If you're tempted to play around with Julia, the following may be of use:\n",
    "\n",
    "- [A Deep Introduction to Julia for Data Science and Scientific Computing](http://ucidatascienceinitiative.github.io/IntroToJulia/) by Chris Rackauckas. My fav!\n",
    "- [Extensive list of resources](https://julialang.org/learning/) on the Julia website\n",
    "- And of course the [Julia docs](https://docs.julialang.org/en/v1/) themselves. Surprisingly fun to read!"
   ]
  },
  {
   "cell_type": "markdown",
   "metadata": {
    "slideshow": {
     "slide_type": "slide"
    }
   },
   "source": [
    "## Thanks!\n",
    "\n",
    "##### Enjoy the rabbit hole..."
   ]
  },
  {
   "cell_type": "code",
   "execution_count": null,
   "metadata": {
    "slideshow": {
     "slide_type": "skip"
    }
   },
   "outputs": [],
   "source": []
  }
 ],
 "metadata": {
  "celltoolbar": "Slideshow",
  "kernelspec": {
   "display_name": "Julia 1.4.0-rc1",
   "language": "julia",
   "name": "julia-1.4"
  },
  "language_info": {
   "file_extension": ".jl",
   "mimetype": "application/julia",
   "name": "julia",
   "version": "1.4.0"
  },
  "latex_envs": {
   "LaTeX_envs_menu_present": true,
   "autoclose": false,
   "autocomplete": true,
   "bibliofile": "biblio.bib",
   "cite_by": "apalike",
   "current_citInitial": 1,
   "eqLabelWithNumbers": true,
   "eqNumInitial": 1,
   "hotkeys": {
    "equation": "Ctrl-E",
    "itemize": "Ctrl-I"
   },
   "labels_anchors": false,
   "latex_user_defs": false,
   "report_style_numbering": false,
   "user_envs_cfg": false
  },
  "toc": {
   "base_numbering": 1,
   "nav_menu": {},
   "number_sections": false,
   "sideBar": true,
   "skip_h1_title": false,
   "title_cell": "Table of Contents",
   "title_sidebar": "Contents",
   "toc_cell": false,
   "toc_position": {},
   "toc_section_display": true,
   "toc_window_display": false
  }
 },
 "nbformat": 4,
 "nbformat_minor": 4
}
